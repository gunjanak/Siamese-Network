{
  "nbformat": 4,
  "nbformat_minor": 0,
  "metadata": {
    "colab": {
      "provenance": [],
      "collapsed_sections": [
        "_E9j3A5XtGx1",
        "8L_kWMolt3PH",
        "oRxhdCdut66P"
      ],
      "gpuType": "T4",
      "authorship_tag": "ABX9TyNXdMXIhfmZXybwzolMdHi2",
      "include_colab_link": true
    },
    "kernelspec": {
      "name": "python3",
      "display_name": "Python 3"
    },
    "language_info": {
      "name": "python"
    },
    "accelerator": "GPU"
  },
  "cells": [
    {
      "cell_type": "markdown",
      "metadata": {
        "id": "view-in-github",
        "colab_type": "text"
      },
      "source": [
        "<a href=\"https://colab.research.google.com/github/gunjanak/Siamese-Network/blob/main/Siamese_Network_triplet_loss_ipynb.ipynb\" target=\"_parent\"><img src=\"https://colab.research.google.com/assets/colab-badge.svg\" alt=\"Open In Colab\"/></a>"
      ]
    },
    {
      "cell_type": "markdown",
      "source": [
        "#The Dataset"
      ],
      "metadata": {
        "id": "_E9j3A5XtGx1"
      }
    },
    {
      "cell_type": "code",
      "source": [
        "!wget https://github.com/maticvl/dataHacker/raw/master/DATA/at%26t.zip\n",
        "!rm -rf data\n",
        "!unzip \"at&t.zip\" -d ."
      ],
      "metadata": {
        "id": "267die59tGUg"
      },
      "execution_count": null,
      "outputs": []
    },
    {
      "cell_type": "code",
      "execution_count": null,
      "metadata": {
        "id": "xhHZaDZJscQb"
      },
      "outputs": [],
      "source": [
        "%matplotlib inline\n",
        "import matplotlib.pyplot as plt\n",
        "import numpy as np\n",
        "import random\n",
        "from PIL import Image\n",
        "import PIL.ImageOps\n",
        "\n",
        "import torchvision\n",
        "import torchvision.datasets as datasets\n",
        "import torchvision.transforms as transforms\n",
        "from torch.utils.data import DataLoader, Dataset\n",
        "import torchvision.utils\n",
        "import torch\n",
        "from torch.autograd import Variable\n",
        "import torch.nn as nn\n",
        "from torch import optim\n",
        "import torch.nn.functional as F"
      ]
    },
    {
      "cell_type": "code",
      "source": [
        "#Creating some helper functions\n",
        "def imshow(img,text=None):\n",
        "  npimg = img.numpy()\n",
        "  plt.axis(\"off\")\n",
        "  if text:\n",
        "    plt.text(75,8,text,style='italic',fontweight='bold',\n",
        "             bbox={'facecolor':'white','alpha':0.8,'pad':10})\n",
        "  plt.imshow(np.transpose(npimg,(1,2,0)))\n",
        "  plt.show()\n",
        "\n",
        "#plotting data\n",
        "def show_plot(iteration,loss):\n",
        "  plt.plot(iteration,loss)\n",
        "  plt.show()"
      ],
      "metadata": {
        "id": "BdTUBE7ms7Cp"
      },
      "execution_count": null,
      "outputs": []
    },
    {
      "cell_type": "code",
      "source": [
        "class RGBToGrayscale(object):\n",
        "    def __call__(self, sample):\n",
        "        return transforms.functional.rgb_to_grayscale(sample)"
      ],
      "metadata": {
        "id": "E5ffvJE4rdgR"
      },
      "execution_count": null,
      "outputs": []
    },
    {
      "cell_type": "code",
      "source": [
        "class TripletDataset(Dataset):\n",
        "  def __init__(self,root,transform=None):\n",
        "    self.root = root\n",
        "    self.transform = transform\n",
        "    self.dataset = datasets.ImageFolder(root=self.root,transform=self.transform)\n",
        "    self.classes = list(set([sample[1] for sample in self.dataset.samples]))\n",
        "\n",
        "  def __len__(self):\n",
        "    return len(self.dataset)\n",
        "\n",
        "  def __getitem__(self,index):\n",
        "    anchor,anchor_label = self.dataset[index]\n",
        "\n",
        "    #Select a positive sample from the same class as the anchor\n",
        "    positive_candidates = [i for i, label in enumerate(self.dataset.targets) if label == anchor_label]\n",
        "    positive_index = random.choice(positive_candidates)\n",
        "    positive,positive_label = self.dataset[positive_index]\n",
        "\n",
        "    #Select a negative sample from a different class\n",
        "    negative_candidates = [i for i, label in enumerate(self.dataset.targets) if label != anchor_label]\n",
        "    negative_index = random.choice(negative_candidates)\n",
        "    negative,negative_lable = self.dataset[negative_index]\n",
        "\n",
        "    return anchor,positive, negative\n",
        "\n",
        "\n"
      ],
      "metadata": {
        "id": "FPeXyWkKlEBb"
      },
      "execution_count": null,
      "outputs": []
    },
    {
      "cell_type": "markdown",
      "source": [
        "#Load and preprocess data"
      ],
      "metadata": {
        "id": "8L_kWMolt3PH"
      }
    },
    {
      "cell_type": "code",
      "source": [
        "#Define a suitable transform for your images\n",
        "transform = transforms.Compose([\n",
        "    transforms.Resize((100,100)),\n",
        "    RGBToGrayscale(),\n",
        "    transforms.ToTensor(),\n",
        "])"
      ],
      "metadata": {
        "id": "QUuWI3ncm2AM"
      },
      "execution_count": null,
      "outputs": []
    },
    {
      "cell_type": "code",
      "source": [
        "#Create a TripletDataset\n",
        "train_dataset = TripletDataset(root=\"./data/faces/training/\",transform=transform)"
      ],
      "metadata": {
        "id": "I6vH08EsnGCm"
      },
      "execution_count": null,
      "outputs": []
    },
    {
      "cell_type": "code",
      "source": [
        "#Create Dataloader\n",
        "train_loader = DataLoader(train_dataset,batch_size=64,shuffle=True,num_workers=2)"
      ],
      "metadata": {
        "id": "Bp_nASJxnQtD"
      },
      "execution_count": null,
      "outputs": []
    },
    {
      "cell_type": "markdown",
      "source": [
        "#Define network"
      ],
      "metadata": {
        "id": "oRxhdCdut66P"
      }
    },
    {
      "cell_type": "code",
      "source": [
        "import torch\n",
        "import torch.nn as nn\n",
        "import torch.optim as optim\n",
        "from torch.utils.data import DataLoader\n",
        "from torchvision import datasets, transforms"
      ],
      "metadata": {
        "id": "WDJc6SngtCRq"
      },
      "execution_count": null,
      "outputs": []
    },
    {
      "cell_type": "code",
      "source": [
        "# # Define Siamese network architecture\n",
        "# class SiameseNetwork(nn.Module):\n",
        "#     def __init__(self):\n",
        "#       super(SiameseNetwork, self).__init__()\n",
        "\n",
        "#       #Define the convolutional layers\n",
        "#       self.conv1 = nn.Conv2d(1,64,kernel_size=5)\n",
        "#       self.pool1 = nn.MaxPool2d(2,2)\n",
        "#       self.conv2 = nn.Conv2d(64,128,kernel_size=5)\n",
        "#       self.pool2 = nn.MaxPool2d(2,2)\n",
        "\n",
        "#       #Define the fully connected layers\n",
        "#       self.fc1 = nn.Linear(128*9*9*64,256)\n",
        "#       self.fc2 = nn.Linear(256,128)\n",
        "\n",
        "#     def forward_one(self,x):\n",
        "#       x = self.pool1(F.relu(self.conv1(x)))\n",
        "#       x = self.pool2(F.relu(self.conv2(x)))\n",
        "#       print(x.shape)\n",
        "#       x = x.view(-1,128*9*9*64)\n",
        "#       x = F.relu(self.fc1(x))\n",
        "#       x = self.fc2(x)\n",
        "#       return x\n",
        "\n",
        "#     def forward(self,anchor,positive,negative):\n",
        "#       output_anchor = self.forward_one(anchor)\n",
        "#       output_positive = self.forward_one(positive)\n",
        "#       output_negative = self.forward_one(negative)\n",
        "#       return output_anchor, output_positive, output_negative\n"
      ],
      "metadata": {
        "id": "u3VRGtBhtRJE"
      },
      "execution_count": null,
      "outputs": []
    },
    {
      "cell_type": "code",
      "source": [
        "#Create a SiameseNetwork\n",
        "class SiameseNetwork(nn.Module):\n",
        "  def __init__(self):\n",
        "    super(SiameseNetwork,self).__init__()\n",
        "\n",
        "    #Setting up the sequential of CNN layers\n",
        "    self.cnn1 = nn.Sequential(\n",
        "        nn.Conv2d(1,96,kernel_size=11,stride=4),\n",
        "        nn.ReLU(inplace=True),\n",
        "        nn.MaxPool2d(3,stride=2),\n",
        "\n",
        "        nn.Conv2d(96,256,kernel_size=5,stride=1),\n",
        "        nn.ReLU(inplace=True),\n",
        "        nn.MaxPool2d(2,stride=2),\n",
        "\n",
        "        nn.Conv2d(256,384,kernel_size=3,stride=1),\n",
        "        nn.ReLU(inplace=True)\n",
        "\n",
        "    )\n",
        "\n",
        "    #Setting up the fully connected layers\n",
        "    self.fc1 = nn.Sequential(\n",
        "        nn.Linear(384,1024),\n",
        "        nn.ReLU(inplace=True),\n",
        "        nn.Linear(1024,256),\n",
        "        nn.ReLU(inplace=True),\n",
        "        nn.Linear(256,2)\n",
        "\n",
        "    )\n",
        "\n",
        "  def forward_once(self,x):\n",
        "    #This function will be called for both images\n",
        "    #Its output is used to determine the similiarity\n",
        "    output = self.cnn1(x)\n",
        "    output = output.view(output.size()[0],-1)\n",
        "    output = self.fc1(output)\n",
        "    return output\n",
        "\n",
        "  def forward(self,input1,input2,input3):\n",
        "    output1 = self.forward_once(input1)\n",
        "    output2 = self.forward_once(input2)\n",
        "    output3 = self.forward_once(input3)\n",
        "\n",
        "    return output1,output2,output3\n",
        "\n"
      ],
      "metadata": {
        "id": "DoVqku2VxqnN"
      },
      "execution_count": null,
      "outputs": []
    },
    {
      "cell_type": "code",
      "source": [
        "# Define triplet loss\n",
        "class TripletLoss(nn.Module):\n",
        "    def __init__(self, margin=1.0):\n",
        "        super(TripletLoss, self).__init__()\n",
        "        self.margin = margin\n",
        "\n",
        "    def forward(self, anchor, positive, negative):\n",
        "        distance_positive = (anchor - positive).pow(2).sum(1)\n",
        "        distance_negative = (anchor - negative).pow(2).sum(1)\n",
        "        loss = torch.relu(distance_positive - distance_negative + self.margin)\n",
        "        return loss.mean()"
      ],
      "metadata": {
        "id": "D8wpKNl1tUqs"
      },
      "execution_count": null,
      "outputs": []
    },
    {
      "cell_type": "code",
      "source": [
        "train_loader"
      ],
      "metadata": {
        "colab": {
          "base_uri": "https://localhost:8080/"
        },
        "id": "M8KxbOTiwmlB",
        "outputId": "4fbb204f-fe46-44ab-de0f-84e2ad92ac3e"
      },
      "execution_count": null,
      "outputs": [
        {
          "output_type": "execute_result",
          "data": {
            "text/plain": [
              "<torch.utils.data.dataloader.DataLoader at 0x7ae7d0f7ee30>"
            ]
          },
          "metadata": {},
          "execution_count": 30
        }
      ]
    },
    {
      "cell_type": "code",
      "source": [
        "# Initialize Siamese network and triplet loss\n",
        "siamese_net = SiameseNetwork()\n",
        "triplet_loss = TripletLoss()\n",
        "\n",
        "# Define optimizer\n",
        "optimizer = optim.Adam(siamese_net.parameters(), lr=0.001)\n",
        "\n",
        "# Training loop\n",
        "num_epochs = 100\n",
        "device = torch.device('cuda' if torch.cuda.is_available() else 'cpu')\n",
        "siamese_net.to(device)"
      ],
      "metadata": {
        "id": "JJNnof7xuE3i",
        "colab": {
          "base_uri": "https://localhost:8080/"
        },
        "outputId": "00d98258-8bdf-4817-8ded-50e9000f385c"
      },
      "execution_count": null,
      "outputs": [
        {
          "output_type": "execute_result",
          "data": {
            "text/plain": [
              "SiameseNetwork(\n",
              "  (cnn1): Sequential(\n",
              "    (0): Conv2d(1, 96, kernel_size=(11, 11), stride=(4, 4))\n",
              "    (1): ReLU(inplace=True)\n",
              "    (2): MaxPool2d(kernel_size=3, stride=2, padding=0, dilation=1, ceil_mode=False)\n",
              "    (3): Conv2d(96, 256, kernel_size=(5, 5), stride=(1, 1))\n",
              "    (4): ReLU(inplace=True)\n",
              "    (5): MaxPool2d(kernel_size=2, stride=2, padding=0, dilation=1, ceil_mode=False)\n",
              "    (6): Conv2d(256, 384, kernel_size=(3, 3), stride=(1, 1))\n",
              "    (7): ReLU(inplace=True)\n",
              "  )\n",
              "  (fc1): Sequential(\n",
              "    (0): Linear(in_features=384, out_features=1024, bias=True)\n",
              "    (1): ReLU(inplace=True)\n",
              "    (2): Linear(in_features=1024, out_features=256, bias=True)\n",
              "    (3): ReLU(inplace=True)\n",
              "    (4): Linear(in_features=256, out_features=2, bias=True)\n",
              "  )\n",
              ")"
            ]
          },
          "metadata": {},
          "execution_count": 31
        }
      ]
    },
    {
      "cell_type": "markdown",
      "source": [
        "#Train"
      ],
      "metadata": {
        "id": "sgWXMzozuBUl"
      }
    },
    {
      "cell_type": "code",
      "source": [
        "epoch_loss = []"
      ],
      "metadata": {
        "id": "lrry7vaRz-Jq"
      },
      "execution_count": null,
      "outputs": []
    },
    {
      "cell_type": "code",
      "source": [
        "for epoch in range(num_epochs):\n",
        "    for batch in train_loader:\n",
        "      anchor,positive,negative = batch[0].to(device),batch[1].to(device),batch[2].to(device)\n",
        "      optimizer.zero_grad()\n",
        "      output_anchor, output_positive, output_negative = siamese_net(anchor, positive, negative)\n",
        "      loss = triplet_loss(output_anchor, output_positive, output_negative)\n",
        "      loss.backward()\n",
        "      optimizer.step()\n",
        "    epoch_loss.append(loss.item())\n",
        "    print(f'Epoch [{epoch + 1}/{num_epochs}], Loss: {loss.item():.4f}')\n",
        "    if loss.item()<0.05:\n",
        "      break\n"
      ],
      "metadata": {
        "id": "tZ0LHe7huP3n",
        "colab": {
          "base_uri": "https://localhost:8080/"
        },
        "outputId": "75a08aff-df55-42fa-bd0d-fed239fd8813"
      },
      "execution_count": null,
      "outputs": [
        {
          "output_type": "stream",
          "name": "stdout",
          "text": [
            "Epoch [1/100], Loss: 0.5660\n",
            "Epoch [2/100], Loss: 0.3819\n",
            "Epoch [3/100], Loss: 0.5001\n",
            "Epoch [4/100], Loss: 0.4658\n",
            "Epoch [5/100], Loss: 0.3076\n",
            "Epoch [6/100], Loss: 0.4527\n",
            "Epoch [7/100], Loss: 0.4217\n",
            "Epoch [8/100], Loss: 0.2995\n",
            "Epoch [9/100], Loss: 0.3359\n",
            "Epoch [10/100], Loss: 0.3638\n",
            "Epoch [11/100], Loss: 0.3018\n",
            "Epoch [12/100], Loss: 0.3466\n",
            "Epoch [13/100], Loss: 0.2338\n",
            "Epoch [14/100], Loss: 0.1807\n",
            "Epoch [15/100], Loss: 0.0615\n",
            "Epoch [16/100], Loss: 0.1710\n",
            "Epoch [17/100], Loss: 0.1880\n",
            "Epoch [18/100], Loss: 0.2808\n",
            "Epoch [19/100], Loss: 0.0940\n",
            "Epoch [20/100], Loss: 0.1172\n",
            "Epoch [21/100], Loss: 0.2767\n",
            "Epoch [22/100], Loss: 0.1482\n",
            "Epoch [23/100], Loss: 0.1887\n",
            "Epoch [24/100], Loss: 0.0971\n",
            "Epoch [25/100], Loss: 0.1156\n",
            "Epoch [26/100], Loss: 0.2102\n",
            "Epoch [27/100], Loss: 0.3004\n",
            "Epoch [28/100], Loss: 0.1165\n",
            "Epoch [29/100], Loss: 0.0905\n",
            "Epoch [30/100], Loss: 0.1255\n",
            "Epoch [31/100], Loss: 0.1604\n",
            "Epoch [32/100], Loss: 0.2060\n",
            "Epoch [33/100], Loss: 0.0771\n",
            "Epoch [34/100], Loss: 0.1095\n",
            "Epoch [35/100], Loss: 0.0541\n",
            "Epoch [36/100], Loss: 0.0847\n",
            "Epoch [37/100], Loss: 0.0823\n",
            "Epoch [38/100], Loss: 0.0553\n",
            "Epoch [39/100], Loss: 0.0194\n"
          ]
        }
      ]
    },
    {
      "cell_type": "code",
      "source": [
        "epoch_loss"
      ],
      "metadata": {
        "id": "H2Aeje_H1-Wu"
      },
      "execution_count": null,
      "outputs": []
    },
    {
      "cell_type": "code",
      "source": [
        "# Plotting the values as a line graph\n",
        "plt.plot(epoch_loss, marker='o', linestyle='-', color='b')\n",
        "\n",
        "# Adding labels and title\n",
        "plt.xlabel('Data Point Index')\n",
        "plt.ylabel('Values')\n",
        "plt.title('Line Graph of Values')\n",
        "\n",
        "# Display the plot\n",
        "plt.show()"
      ],
      "metadata": {
        "colab": {
          "base_uri": "https://localhost:8080/",
          "height": 472
        },
        "id": "Q6SDKGdv0jCc",
        "outputId": "6e4d5791-5e65-4417-eb4c-d84722399ff0"
      },
      "execution_count": null,
      "outputs": [
        {
          "output_type": "display_data",
          "data": {
            "text/plain": [
              "<Figure size 640x480 with 1 Axes>"
            ],
            "image/png": "[encoded data removed]"
          },
          "metadata": {}
        }
      ]
    },
    {
      "cell_type": "code",
      "source": [],
      "metadata": {
        "id": "l6wxPKSRy8Mb"
      },
      "execution_count": null,
      "outputs": []
    }
  ]
}